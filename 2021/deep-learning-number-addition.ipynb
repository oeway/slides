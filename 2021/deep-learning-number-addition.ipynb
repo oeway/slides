{
 "cells": [
  {
   "cell_type": "markdown",
   "id": "e566f086-8eaa-4c9d-aeb6-c73e14be47e7",
   "metadata": {},
   "source": [
    "# Training a neural network to do number addition\n",
    "\n",
    "\n",
    "Reference: https://www.pluralsight.com/guides/deep-learning-model-add"
   ]
  },
  {
   "cell_type": "markdown",
   "id": "84d55ced-7526-480a-9077-7892cad084bd",
   "metadata": {},
   "source": [
    "# Generate training data pairs from 3 to 100"
   ]
  },
  {
   "cell_type": "code",
   "execution_count": 15,
   "id": "98caab73-be83-483e-b95f-32fb83e6624b",
   "metadata": {},
   "outputs": [
    {
     "name": "stdout",
     "output_type": "stream",
     "text": [
      "[[1. 1.]]\n"
     ]
    }
   ],
   "source": [
    "import numpy as np \n",
    "train_data = np.array([[1.0,1.0]])\n",
    "train_targets = np.array([2.0])\n",
    "print(train_data)\n",
    "for i in range(3,1000,2):\n",
    "    train_data= np.append(train_data,[[i,i]],axis=0)\n",
    "    train_targets= np.append(train_targets,[i+i])\n",
    "\n",
    "test_data = np.array([[2.0,2.0]])\n",
    "test_targets = np.array([4.0])\n",
    "for i in range(4,2000,4):\n",
    "    test_data = np.append(test_data,[[i,i]],axis=0)\n",
    "    test_targets = np.append(test_targets,[i+i])"
   ]
  },
  {
   "cell_type": "code",
   "execution_count": 16,
   "id": "a2738ba9-6d04-43d8-8de4-eb25bdca2040",
   "metadata": {},
   "outputs": [
    {
     "data": {
      "text/plain": [
       "array([[ 1.,  1.],\n",
       "       [ 3.,  3.],\n",
       "       [ 5.,  5.],\n",
       "       [ 7.,  7.],\n",
       "       [ 9.,  9.],\n",
       "       [11., 11.],\n",
       "       [13., 13.],\n",
       "       [15., 15.],\n",
       "       [17., 17.],\n",
       "       [19., 19.]])"
      ]
     },
     "execution_count": 16,
     "metadata": {},
     "output_type": "execute_result"
    }
   ],
   "source": [
    "train_data[:10]"
   ]
  },
  {
   "cell_type": "markdown",
   "id": "f3f71272-56f9-4c9d-b834-92a2810c84d4",
   "metadata": {},
   "source": [
    "# Train a neural network for doing two-number addition"
   ]
  },
  {
   "cell_type": "code",
   "execution_count": 21,
   "id": "724aa562-0bc8-4346-8fdd-f8073d4ead22",
   "metadata": {},
   "outputs": [
    {
     "name": "stdout",
     "output_type": "stream",
     "text": [
      "Epoch 1/100\n",
      "125/125 [==============================] - 0s 2ms/step - loss: 484492.5000 - mae: 545.2289\n",
      "Epoch 2/100\n",
      "125/125 [==============================] - 0s 2ms/step - loss: 1737.4086 - mae: 18.6228\n",
      "Epoch 3/100\n",
      "125/125 [==============================] - 0s 2ms/step - loss: 0.1161 - mae: 0.2870\n",
      "Epoch 4/100\n",
      "125/125 [==============================] - 0s 2ms/step - loss: 0.1138 - mae: 0.2817\n",
      "Epoch 5/100\n",
      "125/125 [==============================] - 0s 2ms/step - loss: 0.1131 - mae: 0.2800\n",
      "Epoch 6/100\n",
      "125/125 [==============================] - 0s 2ms/step - loss: 0.1135 - mae: 0.2819\n",
      "Epoch 7/100\n",
      "125/125 [==============================] - 0s 2ms/step - loss: 0.1126 - mae: 0.2802\n",
      "Epoch 8/100\n",
      "125/125 [==============================] - 0s 2ms/step - loss: 0.1126 - mae: 0.2805\n",
      "Epoch 9/100\n",
      "125/125 [==============================] - 0s 2ms/step - loss: 0.1121 - mae: 0.2790\n",
      "Epoch 10/100\n",
      "125/125 [==============================] - 0s 2ms/step - loss: 0.1114 - mae: 0.2783\n",
      "Epoch 11/100\n",
      "125/125 [==============================] - 0s 2ms/step - loss: 0.1113 - mae: 0.2787\n",
      "Epoch 12/100\n",
      "125/125 [==============================] - 0s 2ms/step - loss: 0.1107 - mae: 0.2781\n",
      "Epoch 13/100\n",
      "125/125 [==============================] - 0s 2ms/step - loss: 0.1106 - mae: 0.2769\n",
      "Epoch 14/100\n",
      "125/125 [==============================] - 0s 2ms/step - loss: 0.1101 - mae: 0.2762\n",
      "Epoch 15/100\n",
      "125/125 [==============================] - 0s 2ms/step - loss: 0.1088 - mae: 0.2738\n",
      "Epoch 16/100\n",
      "125/125 [==============================] - 0s 2ms/step - loss: 0.1081 - mae: 0.2747\n",
      "Epoch 17/100\n",
      "125/125 [==============================] - 0s 2ms/step - loss: 0.1099 - mae: 0.2766\n",
      "Epoch 18/100\n",
      "125/125 [==============================] - 0s 2ms/step - loss: 0.1081 - mae: 0.2745\n",
      "Epoch 19/100\n",
      "125/125 [==============================] - 0s 2ms/step - loss: 0.1073 - mae: 0.2729\n",
      "Epoch 20/100\n",
      "125/125 [==============================] - 0s 2ms/step - loss: 0.1056 - mae: 0.2730\n",
      "Epoch 21/100\n",
      "125/125 [==============================] - 0s 2ms/step - loss: 0.1049 - mae: 0.2698\n",
      "Epoch 22/100\n",
      "125/125 [==============================] - 0s 2ms/step - loss: 0.1038 - mae: 0.2677\n",
      "Epoch 23/100\n",
      "125/125 [==============================] - 0s 2ms/step - loss: 0.1053 - mae: 0.2704\n",
      "Epoch 24/100\n",
      "125/125 [==============================] - 0s 2ms/step - loss: 0.1030 - mae: 0.2692\n",
      "Epoch 25/100\n",
      "125/125 [==============================] - 0s 2ms/step - loss: 0.1006 - mae: 0.2648\n",
      "Epoch 26/100\n",
      "125/125 [==============================] - 0s 2ms/step - loss: 0.0989 - mae: 0.2609\n",
      "Epoch 27/100\n",
      "125/125 [==============================] - 0s 2ms/step - loss: 0.1006 - mae: 0.2650\n",
      "Epoch 28/100\n",
      "125/125 [==============================] - 0s 2ms/step - loss: 0.0959 - mae: 0.2590\n",
      "Epoch 29/100\n",
      "125/125 [==============================] - 0s 2ms/step - loss: 0.0961 - mae: 0.2584\n",
      "Epoch 30/100\n",
      "125/125 [==============================] - 0s 2ms/step - loss: 0.0957 - mae: 0.2599\n",
      "Epoch 31/100\n",
      "125/125 [==============================] - 0s 2ms/step - loss: 0.0928 - mae: 0.2542\n",
      "Epoch 32/100\n",
      "125/125 [==============================] - 0s 2ms/step - loss: 0.0902 - mae: 0.2501\n",
      "Epoch 33/100\n",
      "125/125 [==============================] - 0s 2ms/step - loss: 0.0888 - mae: 0.2482\n",
      "Epoch 34/100\n",
      "125/125 [==============================] - 0s 2ms/step - loss: 0.0873 - mae: 0.2464\n",
      "Epoch 35/100\n",
      "125/125 [==============================] - 0s 2ms/step - loss: 0.0878 - mae: 0.2470\n",
      "Epoch 36/100\n",
      "125/125 [==============================] - 0s 2ms/step - loss: 0.0844 - mae: 0.2432\n",
      "Epoch 37/100\n",
      "125/125 [==============================] - 0s 2ms/step - loss: 0.0813 - mae: 0.2374\n",
      "Epoch 38/100\n",
      "125/125 [==============================] - 0s 2ms/step - loss: 0.0800 - mae: 0.2388\n",
      "Epoch 39/100\n",
      "125/125 [==============================] - 0s 2ms/step - loss: 0.0787 - mae: 0.2354\n",
      "Epoch 40/100\n",
      "125/125 [==============================] - 0s 2ms/step - loss: 0.0769 - mae: 0.2322\n",
      "Epoch 41/100\n",
      "125/125 [==============================] - 0s 2ms/step - loss: 0.0725 - mae: 0.2255\n",
      "Epoch 42/100\n",
      "125/125 [==============================] - 0s 2ms/step - loss: 0.0743 - mae: 0.2298\n",
      "Epoch 43/100\n",
      "125/125 [==============================] - 0s 2ms/step - loss: 0.0678 - mae: 0.2179\n",
      "Epoch 44/100\n",
      "125/125 [==============================] - 0s 2ms/step - loss: 0.0664 - mae: 0.2191\n",
      "Epoch 45/100\n",
      "125/125 [==============================] - 0s 2ms/step - loss: 0.0683 - mae: 0.2222\n",
      "Epoch 46/100\n",
      "125/125 [==============================] - 0s 2ms/step - loss: 0.0642 - mae: 0.2155\n",
      "Epoch 47/100\n",
      "125/125 [==============================] - 0s 2ms/step - loss: 0.0613 - mae: 0.2101\n",
      "Epoch 48/100\n",
      "125/125 [==============================] - 0s 2ms/step - loss: 0.0549 - mae: 0.1963\n",
      "Epoch 49/100\n",
      "125/125 [==============================] - 0s 2ms/step - loss: 0.0550 - mae: 0.1997\n",
      "Epoch 50/100\n",
      "125/125 [==============================] - 0s 2ms/step - loss: 0.0486 - mae: 0.1844\n",
      "Epoch 51/100\n",
      "125/125 [==============================] - 0s 2ms/step - loss: 0.0458 - mae: 0.1795\n",
      "Epoch 52/100\n",
      "125/125 [==============================] - 0s 2ms/step - loss: 0.0420 - mae: 0.1714\n",
      "Epoch 53/100\n",
      "125/125 [==============================] - 0s 2ms/step - loss: 0.0405 - mae: 0.1695\n",
      "Epoch 54/100\n",
      "125/125 [==============================] - 0s 2ms/step - loss: 0.0399 - mae: 0.1688\n",
      "Epoch 55/100\n",
      "125/125 [==============================] - 0s 2ms/step - loss: 0.0400 - mae: 0.1720\n",
      "Epoch 56/100\n",
      "125/125 [==============================] - 0s 2ms/step - loss: 0.0353 - mae: 0.1580\n",
      "Epoch 57/100\n",
      "125/125 [==============================] - 0s 2ms/step - loss: 0.0352 - mae: 0.1621\n",
      "Epoch 58/100\n",
      "125/125 [==============================] - 0s 2ms/step - loss: 0.0315 - mae: 0.1528\n",
      "Epoch 59/100\n",
      "125/125 [==============================] - 0s 2ms/step - loss: 0.0247 - mae: 0.1329\n",
      "Epoch 60/100\n",
      "125/125 [==============================] - 0s 2ms/step - loss: 0.0504 - mae: 0.1866\n",
      "Epoch 61/100\n",
      "125/125 [==============================] - 0s 2ms/step - loss: 0.0228 - mae: 0.1274\n",
      "Epoch 62/100\n",
      "125/125 [==============================] - 0s 2ms/step - loss: 0.0189 - mae: 0.1198\n",
      "Epoch 63/100\n",
      "125/125 [==============================] - 0s 2ms/step - loss: 0.0143 - mae: 0.1001\n",
      "Epoch 64/100\n",
      "125/125 [==============================] - 0s 2ms/step - loss: 0.0175 - mae: 0.1131\n",
      "Epoch 65/100\n",
      "125/125 [==============================] - 0s 2ms/step - loss: 0.0210 - mae: 0.1234\n",
      "Epoch 66/100\n",
      "125/125 [==============================] - 0s 2ms/step - loss: 0.0241 - mae: 0.1263\n",
      "Epoch 67/100\n",
      "125/125 [==============================] - 0s 2ms/step - loss: 0.0094 - mae: 0.0830\n",
      "Epoch 68/100\n",
      "125/125 [==============================] - 0s 2ms/step - loss: 0.0105 - mae: 0.0848\n",
      "Epoch 69/100\n",
      "125/125 [==============================] - 0s 2ms/step - loss: 0.0066 - mae: 0.0683\n",
      "Epoch 70/100\n",
      "125/125 [==============================] - 0s 2ms/step - loss: 0.0066 - mae: 0.0696\n",
      "Epoch 71/100\n",
      "125/125 [==============================] - 0s 2ms/step - loss: 0.0062 - mae: 0.0678\n",
      "Epoch 72/100\n",
      "125/125 [==============================] - 0s 2ms/step - loss: 0.0089 - mae: 0.0785\n",
      "Epoch 73/100\n",
      "125/125 [==============================] - 0s 2ms/step - loss: 0.0196 - mae: 0.1042\n",
      "Epoch 74/100\n",
      "125/125 [==============================] - 0s 2ms/step - loss: 0.0027 - mae: 0.0430\n",
      "Epoch 75/100\n",
      "125/125 [==============================] - 0s 2ms/step - loss: 0.0033 - mae: 0.0459\n",
      "Epoch 76/100\n",
      "125/125 [==============================] - 0s 2ms/step - loss: 0.0046 - mae: 0.0547\n",
      "Epoch 77/100\n",
      "125/125 [==============================] - 0s 2ms/step - loss: 0.0101 - mae: 0.0673\n",
      "Epoch 78/100\n",
      "125/125 [==============================] - 0s 2ms/step - loss: 0.0066 - mae: 0.0461\n",
      "Epoch 79/100\n",
      "125/125 [==============================] - 0s 2ms/step - loss: 8.0584e-04 - mae: 0.0234\n",
      "Epoch 80/100\n",
      "125/125 [==============================] - 0s 2ms/step - loss: 1.9668 - mae: 0.7204\n",
      "Epoch 81/100\n",
      "125/125 [==============================] - 0s 2ms/step - loss: 1.0204 - mae: 0.5104\n",
      "Epoch 82/100\n",
      "125/125 [==============================] - 0s 2ms/step - loss: 0.0059 - mae: 0.0563\n",
      "Epoch 83/100\n",
      "125/125 [==============================] - 0s 2ms/step - loss: 0.0817 - mae: 0.1912\n",
      "Epoch 84/100\n",
      "125/125 [==============================] - 0s 2ms/step - loss: 0.0562 - mae: 0.1099\n",
      "Epoch 85/100\n",
      "125/125 [==============================] - 0s 2ms/step - loss: 3.1187 - mae: 1.2029\n",
      "Epoch 86/100\n",
      "125/125 [==============================] - 0s 2ms/step - loss: 12.6530 - mae: 2.6967\n",
      "Epoch 87/100\n",
      "125/125 [==============================] - 0s 2ms/step - loss: 2.1090 - mae: 0.5161\n",
      "Epoch 88/100\n",
      "125/125 [==============================] - 0s 2ms/step - loss: 5.9859e-04 - mae: 0.0179\n",
      "Epoch 89/100\n",
      "125/125 [==============================] - 0s 2ms/step - loss: 0.0026 - mae: 0.0310\n",
      "Epoch 90/100\n",
      "125/125 [==============================] - 0s 2ms/step - loss: 8.7128e-05 - mae: 0.0076\n",
      "Epoch 91/100\n",
      "125/125 [==============================] - 0s 2ms/step - loss: 2.5330e-04 - mae: 0.0112\n",
      "Epoch 92/100\n",
      "125/125 [==============================] - 0s 2ms/step - loss: 8.5946e-05 - mae: 0.0071\n",
      "Epoch 93/100\n",
      "125/125 [==============================] - 0s 2ms/step - loss: 2.7636e-05 - mae: 0.0042\n",
      "Epoch 94/100\n",
      "125/125 [==============================] - 0s 2ms/step - loss: 1.5126e-04 - mae: 0.0092\n",
      "Epoch 95/100\n",
      "125/125 [==============================] - 0s 2ms/step - loss: 0.0367 - mae: 0.1017\n",
      "Epoch 96/100\n",
      "125/125 [==============================] - 0s 2ms/step - loss: 0.0297 - mae: 0.1179\n",
      "Epoch 97/100\n",
      "125/125 [==============================] - 0s 2ms/step - loss: 0.0084 - mae: 0.0635\n",
      "Epoch 98/100\n",
      "125/125 [==============================] - 0s 2ms/step - loss: 0.0031 - mae: 0.0412\n",
      "Epoch 99/100\n",
      "125/125 [==============================] - 0s 2ms/step - loss: 4.4436 - mae: 0.9856\n",
      "Epoch 100/100\n",
      "125/125 [==============================] - 0s 2ms/step - loss: 0.6195 - mae: 0.5237\n",
      "16/16 [==============================] - 0s 2ms/step - loss: 0.1235 - mae: 0.3186\n",
      "Test accuracy: 0.31864258646965027\n"
     ]
    }
   ],
   "source": [
    "import tensorflow as tf\n",
    "from tensorflow import keras\n",
    "import numpy as np\n",
    "\n",
    "model = keras.Sequential([\n",
    "    keras.layers.Flatten(input_shape=(2,)),\n",
    "    keras.layers.Dense(20, activation=tf.nn.relu),\n",
    "\tkeras.layers.Dense(20, activation=tf.nn.relu),\n",
    "    keras.layers.Dense(1)\n",
    "])\n",
    "\n",
    "model.compile(optimizer='adam', \n",
    "              loss='mse',\n",
    "              metrics=['mae'])\n",
    "\n",
    "model.fit(train_data, train_targets, epochs=100, batch_size=4)\n",
    "\n",
    "test_loss, test_acc = model.evaluate(test_data, test_targets)\n",
    "print('Test accuracy:', test_acc)\n",
    "\n",
    "def neural_network_add(a, b):\n",
    "    arr = np.array([[a, b]])\n",
    "    return model.predict(arr)[0, 0]"
   ]
  },
  {
   "cell_type": "markdown",
   "id": "cc47330d-7235-42c7-b93e-482095c1b68e",
   "metadata": {},
   "source": [
    "# Test it with data in the same range during training (Odd number from 3 to 100)"
   ]
  },
  {
   "cell_type": "code",
   "execution_count": 22,
   "id": "f2e0a429-d97a-4239-a924-daf413cf546a",
   "metadata": {},
   "outputs": [
    {
     "data": {
      "text/plain": [
       "8.057457"
      ]
     },
     "execution_count": 22,
     "metadata": {},
     "output_type": "execute_result"
    }
   ],
   "source": [
    "neural_network_add(4, 4)"
   ]
  },
  {
   "cell_type": "code",
   "execution_count": 23,
   "id": "59c7f11f-ed7a-47a5-ab14-6276e171eaa3",
   "metadata": {},
   "outputs": [
    {
     "data": {
      "text/plain": [
       "6.0565796"
      ]
     },
     "execution_count": 23,
     "metadata": {},
     "output_type": "execute_result"
    }
   ],
   "source": [
    "neural_network_add(3, 3)"
   ]
  },
  {
   "cell_type": "code",
   "execution_count": 24,
   "id": "b97eebba-ccfb-4adf-8641-15d08f6aa820",
   "metadata": {},
   "outputs": [
    {
     "data": {
      "text/plain": [
       "40.06878"
      ]
     },
     "execution_count": 24,
     "metadata": {},
     "output_type": "execute_result"
    }
   ],
   "source": [
    "neural_network_add(20, 20)"
   ]
  },
  {
   "cell_type": "markdown",
   "id": "8d94a1f6-41c6-4374-8816-f26905016439",
   "metadata": {},
   "source": [
    "# Test it with out-of-distribution numbers"
   ]
  },
  {
   "cell_type": "code",
   "execution_count": 25,
   "id": "b52e5383-8995-4f0d-acd7-5ba73c89fed7",
   "metadata": {},
   "outputs": [
    {
     "data": {
      "text/plain": [
       "9362.641"
      ]
     },
     "execution_count": 25,
     "metadata": {},
     "output_type": "execute_result"
    }
   ],
   "source": [
    "neural_network_add(1, 8000)"
   ]
  },
  {
   "cell_type": "markdown",
   "id": "76cff839-c4c3-477a-a65e-668508f1d86f",
   "metadata": {
    "tags": []
   },
   "source": [
    "# With OpenAI Codex\n",
    "# Instruction: Write a function in python for adding two numbers"
   ]
  },
  {
   "cell_type": "code",
   "execution_count": 28,
   "id": "1faafaac-8517-4246-9bcb-aa737d956956",
   "metadata": {
    "tags": []
   },
   "outputs": [
    {
     "data": {
      "text/plain": [
       "5"
      ]
     },
     "execution_count": 28,
     "metadata": {},
     "output_type": "execute_result"
    }
   ],
   "source": [
    "def add(a,b):\n",
    "    return a+b\n",
    "add(2,3)"
   ]
  },
  {
   "cell_type": "code",
   "execution_count": 29,
   "id": "54e4433b-7a25-469b-ac81-9ba18cb7d65d",
   "metadata": {},
   "outputs": [
    {
     "data": {
      "text/plain": [
       "8001"
      ]
     },
     "execution_count": 29,
     "metadata": {},
     "output_type": "execute_result"
    }
   ],
   "source": [
    "add(1, 8000)"
   ]
  }
 ],
 "metadata": {
  "kernelspec": {
   "display_name": "Python 3 (ipykernel)",
   "language": "python",
   "name": "python3"
  },
  "language_info": {
   "codemirror_mode": {
    "name": "ipython",
    "version": 3
   },
   "file_extension": ".py",
   "mimetype": "text/x-python",
   "name": "python",
   "nbconvert_exporter": "python",
   "pygments_lexer": "ipython3",
   "version": "3.9.5"
  }
 },
 "nbformat": 4,
 "nbformat_minor": 5
}
