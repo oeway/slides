{
  "cells": [
    {
      "cell_type": "markdown",
      "metadata": {},
      "source": [
        "# Running Deep learning models with ImJoy App Engine\n",
        "\n",
        "This tutorial covers 3 models:\n",
        " * Inception model for single cell protein localization classification (by Bestfitting in the HPA single cell classification competition 2021)\n",
        " * CellPose (C Stringer et. al 2021)\n",
        " * Stardist (Weigert et. al 2020\n",
        " \n",
        "Note: Please be aware that the data will be sent to a remote server (https://ai.imjoy.io/triton) running by the ImJoy team, the service is for evaluation purpose only and it is subject to change without notice. In the near future we will release the deployment toolkit so you can also run your own server easily."
      ]
    },
    {
      "cell_type": "code",
      "execution_count": null,
      "metadata": {
        "trusted": true
      },
      "outputs": [],
      "source": [
        "import micropip\n",
        "await micropip.install('pyotritonclient')\n",
        "\n",
        "from js import fetch\n",
        "import io\n",
        "from PIL import Image\n",
        "import matplotlib.pyplot as plt\n",
        "import numpy as np\n",
        "from pyotritonclient import get_config, execute_model\n",
        "\n",
        "LABELS = {\n",
        "  0: 'Nucleoplasm',\n",
        "  1: 'Nuclear membrane',\n",
        "  2: 'Nucleoli',\n",
        "  3: 'Nucleoli fibrillar center',\n",
        "  4: 'Nuclear speckles',\n",
        "  5: 'Nuclear bodies',\n",
        "  6: 'Endoplasmic reticulum',\n",
        "  7: 'Golgi apparatus',\n",
        "  8: 'Intermediate filaments',\n",
        "  9: 'Actin filaments',\n",
        "  10: 'Microtubules',\n",
        "  11: 'Mitotic spindle',\n",
        "  12: 'Centrosome',\n",
        "  13: 'Plasma membrane',\n",
        "  14: 'Mitochondria',\n",
        "  15: 'Aggresome',\n",
        "  16: 'Cytosol',\n",
        "  17: 'Vesicles and punctate cytosolic patterns',\n",
        "  18: 'Negative',\n",
        "}\n",
        "\n",
        "COLORS =  [\"red\", \"green\", \"blue\", \"yellow\"]\n",
        "\n",
        "async def fetch_image(url, name=None, grayscale=False, size=None):\n",
        "    response = await fetch(url)\n",
        "    bytes = await response.arrayBuffer()\n",
        "    bytes = bytes.to_py()\n",
        "    buffer = io.BytesIO(bytes)\n",
        "    buffer.name = name or url.split('?')[0].split('/')[1]\n",
        "    image = Image.open(buffer)\n",
        "    if grayscale:\n",
        "        image = image.convert('L')\n",
        "    if size:\n",
        "        image = image.resize(size=size)\n",
        "    image = np.array(image)\n",
        "    return image\n",
        "\n",
        "async def fetch_hpa_image(image_id):\n",
        "    crops = []\n",
        "    for color in COLORS:\n",
        "        image = await fetch_image(f'https://images.proteinatlas.org/{image_id}_{color}.jpg', grayscale=True, size=(340, 340))\n",
        "        crops.append(image)\n",
        "    image = np.stack(crops, axis=0)\n",
        "    # assert image.shape == (4, 128, 128)\n",
        "    return image"
      ]
    },
    {
      "cell_type": "markdown",
      "metadata": {},
      "source": [
        "# Fetch an image from HPA website by its ID"
      ]
    },
    {
      "cell_type": "code",
      "execution_count": null,
      "metadata": {
        "trusted": true
      },
      "outputs": [],
      "source": [
        "image = await fetch_hpa_image('115/672_E2_1')\n",
        "# crop the image to a single cell\n",
        "image = image[:, 60:188, 120:248]\n",
        "\n",
        "# make sure the image size is 128x128\n",
        "assert image.shape == (4, 128, 128), \"please make sure the image size is 128x128\"\n",
        "# display the image\n",
        "plt.imshow(image.transpose(1,2,0)[:,:,:3])\n",
        "plt.show()"
      ]
    },
    {
      "cell_type": "markdown",
      "metadata": {},
      "source": [
        "# Run the classification model to make prediction"
      ]
    },
    {
      "cell_type": "code",
      "execution_count": null,
      "metadata": {
        "trusted": true
      },
      "outputs": [],
      "source": [
        "config = await get_config('https://ai.imjoy.io/triton', 'bestfitting-inceptionv3-single-cell')\n",
        "results = await execute_model([image.astype('float32')/255], config=config)\n",
        "classes = results['classes']\n",
        "pred = [(LABELS[i], prob) for i, prob in enumerate(classes.tolist()) if prob>0.5]\n",
        "\n",
        "print(f'Prediction: {pred}')"
      ]
    },
    {
      "cell_type": "markdown",
      "metadata": {},
      "source": [
        "# Run CellPose for cell segmentation"
      ]
    },
    {
      "cell_type": "code",
      "execution_count": null,
      "metadata": {
        "trusted": true
      },
      "outputs": [],
      "source": [
        "# obtain the model config\n",
        "config = await get_config('https://ai.imjoy.io/triton', 'cellpose-python')\n",
        "\n",
        "image = await fetch_image('https://static.imjoy.io/img/img02.png')\n",
        "image = image.astype('float32')\n",
        "param = {'diameter': 30, 'model_type': 'cyto'}\n",
        "\n",
        "# run inference\n",
        "results = await execute_model([image.transpose(2, 0, 1), param], config=config, decode_bytes=True)\n",
        "mask = results['mask']\n",
        "\n",
        "# display the output\n",
        "fig, (ax1, ax2) = plt.subplots(1, 2, figsize=(8, 4))\n",
        "ax1.imshow(image.astype('uint8'))\n",
        "ax1.set_title('input image')\n",
        "ax2.imshow(mask[0])\n",
        "ax2.set_title('predicted mask')\n",
        "plt.show()"
      ]
    },
    {
      "cell_type": "markdown",
      "metadata": {},
      "source": [
        "# Run Stardist for nuclei segmentation"
      ]
    },
    {
      "cell_type": "code",
      "execution_count": null,
      "metadata": {
        "trusted": true
      },
      "outputs": [],
      "source": [
        "# obtain the model config\n",
        "config = await get_config('https://ai.imjoy.io/triton', 'stardist')\n",
        "\n",
        "image = await fetch_image('https://raw.githubusercontent.com/stardist/stardist/3451a4f9e7b6dcef91b09635cc8fa78939fb0d29/stardist/data/images/img2d.tif', grayscale=True)\n",
        "image = image.astype('uint16')\n",
        "diameter = {'diameter': 30}\n",
        "\n",
        "# run inference\n",
        "results = await execute_model([image, diameter], config=config, decode_bytes=True)\n",
        "mask = results['mask']\n",
        "\n",
        "# display the output\n",
        "fig, (ax1, ax2) = plt.subplots(1, 2, figsize=(8, 4))\n",
        "ax1.imshow(image)\n",
        "ax1.set_title('input image')\n",
        "ax2.imshow(mask)\n",
        "ax2.set_title('predicted mask')\n",
        "plt.show()"
      ]
    },
    {
      "cell_type": "code",
      "execution_count": null,
      "metadata": {},
      "outputs": [],
      "source": []
    }
  ],
  "metadata": {
    "kernelspec": {
      "display_name": "Pyolite",
      "language": "python",
      "name": "python"
    },
    "language_info": {
      "codemirror_mode": {
        "name": "python",
        "version": 3
      },
      "file_extension": ".py",
      "mimetype": "text/x-python",
      "name": "python",
      "nbconvert_exporter": "python",
      "pygments_lexer": "ipython3",
      "version": "3.8"
    },
    "orig_nbformat": 4
  },
  "nbformat": 4,
  "nbformat_minor": 4
}
