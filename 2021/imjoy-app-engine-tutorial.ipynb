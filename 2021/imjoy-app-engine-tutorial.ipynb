{
  "metadata": {
    "orig_nbformat": 4,
    "language_info": {
      "codemirror_mode": {
        "name": "python",
        "version": 3
      },
      "file_extension": ".py",
      "mimetype": "text/x-python",
      "name": "python",
      "nbconvert_exporter": "python",
      "pygments_lexer": "ipython3",
      "version": "3.8"
    },
    "kernelspec": {
      "name": "python",
      "display_name": "Pyolite",
      "language": "python"
    }
  },
  "nbformat_minor": 4,
  "nbformat": 4,
  "cells": [
    {
      "cell_type": "markdown",
      "source": "# Running Deep learning models with ImJoy App Engine\n\nThis tutorial covers 3 models:\n * Inception model for single cell protein localization classification (by Bestfitting in the HPA single cell classification competition 2021)\n * CellPose (C Stringer et. al 2021)\n * Stardist (Weigert et. al 2020\n \nNote: Please be aware that the data will be sent to a remote server (https://ai.imjoy.io/triton) running by the ImJoy team, the service is for evaluation purpose only and it is subject to change without notice. In the near future we will release the deployment toolkit so you can also run your own server easily.",
      "metadata": {}
    },
    {
      "cell_type": "code",
      "source": "import micropip\nawait micropip.install('pyotritonclient')\n\nfrom js import fetch\nimport io\nfrom PIL import Image\nimport matplotlib.pyplot as plt\nimport numpy as np\nfrom pyotritonclient import get_config, execute_model\n\nLABELS = {\n  0: 'Nucleoplasm',\n  1: 'Nuclear membrane',\n  2: 'Nucleoli',\n  3: 'Nucleoli fibrillar center',\n  4: 'Nuclear speckles',\n  5: 'Nuclear bodies',\n  6: 'Endoplasmic reticulum',\n  7: 'Golgi apparatus',\n  8: 'Intermediate filaments',\n  9: 'Actin filaments',\n  10: 'Microtubules',\n  11: 'Mitotic spindle',\n  12: 'Centrosome',\n  13: 'Plasma membrane',\n  14: 'Mitochondria',\n  15: 'Aggresome',\n  16: 'Cytosol',\n  17: 'Vesicles and punctate cytosolic patterns',\n  18: 'Negative',\n}\n\nCOLORS =  [\"red\", \"green\", \"blue\", \"yellow\"]\n\nasync def fetch_image(url, name=None, grayscale=False, size=None):\n    response = await fetch(url)\n    bytes = await response.arrayBuffer()\n    bytes = bytes.to_py()\n    buffer = io.BytesIO(bytes)\n    buffer.name = name or url.split('?')[0].split('/')[1]\n    image = Image.open(buffer)\n    if grayscale:\n        image = image.convert('L')\n    if size:\n        image = image.resize(size=size)\n    image = np.array(image)\n    return image\n\nasync def fetch_hpa_image(image_id):\n    crops = []\n    for color in COLORS:\n        image = await fetch_image(f'https://images.proteinatlas.org/{image_id}_{color}.jpg', grayscale=True, size=(340, 340))\n        crops.append(image)\n    image = np.stack(crops, axis=0)\n    # assert image.shape == (4, 128, 128)\n    return image",
      "metadata": {
        "trusted": true
      },
      "execution_count": null,
      "outputs": []
    },
    {
      "cell_type": "markdown",
      "source": "# Fetch an image from HPA website by its ID",
      "metadata": {}
    },
    {
      "cell_type": "code",
      "source": "image = await fetch_hpa_image('115/672_E2_1')\n# crop the image to a single cell\nimage = image[:, 60:188, 120:248]\n\n# make sure the image size is 128x128\nassert image.shape == (4, 128, 128), \"please make sure the image size is 128x128\"\n# display the image\nplt.imshow(image.transpose(1,2,0)[:,:,:3])\nplt.show()",
      "metadata": {
        "trusted": true
      },
      "execution_count": null,
      "outputs": []
    },
    {
      "cell_type": "markdown",
      "source": "# Run the classification model to make prediction",
      "metadata": {}
    },
    {
      "cell_type": "code",
      "source": "config = await get_config('https://ai.imjoy.io/triton', 'bestfitting-inceptionv3-single-cell')\nresults = await execute_model([image.astype('float32')/255], config=config)\nclasses = results['classes']\npred = [(LABELS[i], prob) for i, prob in enumerate(classes.tolist()) if prob>0.5]\n\nprint(f'Prediction: {pred}')",
      "metadata": {
        "trusted": true
      },
      "execution_count": null,
      "outputs": []
    },
    {
      "cell_type": "markdown",
      "source": "# Run CellPose for cell segmentation",
      "metadata": {}
    },
    {
      "cell_type": "code",
      "source": "# obtain the model config\nconfig = await get_config('https://ai.imjoy.io/triton', 'cellpose-cyto-python')\n\nimage = await fetch_image('https://static.imjoy.io/img/img02.png')\nimage = image.astype('float32')\ndiameter = {'diameter': 30}\n\n# run inference\nresults = await execute_model([image.transpose(2, 0, 1), diameter], config=config, decode_bytes=True)\nmask = results['mask']\n\n# display the output\nfig, (ax1, ax2) = plt.subplots(1, 2, figsize=(8, 4))\nax1.imshow(image.astype('uint8'))\nax1.set_title('input image')\nax2.imshow(mask[0])\nax2.set_title('predicted mask')\nplt.show()",
      "metadata": {
        "trusted": true
      },
      "execution_count": null,
      "outputs": []
    },
    {
      "cell_type": "markdown",
      "source": "# Run Stardist for nuclei segmentation",
      "metadata": {}
    },
    {
      "cell_type": "code",
      "source": "# obtain the model config\nconfig = await get_config('https://ai.imjoy.io/triton', 'stardist')\n\nimage = await fetch_image('https://raw.githubusercontent.com/stardist/stardist/3451a4f9e7b6dcef91b09635cc8fa78939fb0d29/stardist/data/images/img2d.tif', grayscale=True)\nimage = image.astype('uint16')\ndiameter = {'diameter': 30}\n\n# run inference\nresults = await execute_model([image, diameter], config=config, decode_bytes=True)\nmask = results['mask']\n\n# display the output\nfig, (ax1, ax2) = plt.subplots(1, 2, figsize=(8, 4))\nax1.imshow(image)\nax1.set_title('input image')\nax2.imshow(mask)\nax2.set_title('predicted mask')\nplt.show()",
      "metadata": {
        "trusted": true
      },
      "execution_count": null,
      "outputs": []
    },
    {
      "cell_type": "code",
      "source": "",
      "metadata": {},
      "execution_count": null,
      "outputs": []
    }
  ]
}