{
  "metadata": {
    "kernelspec": {
      "name": "python",
      "display_name": "Python (Pyodide)",
      "language": "python"
    },
    "language_info": {
      "codemirror_mode": {
        "name": "python",
        "version": 3
      },
      "file_extension": ".py",
      "mimetype": "text/x-python",
      "name": "python",
      "nbconvert_exporter": "python",
      "pygments_lexer": "ipython3",
      "version": "3.8"
    }
  },
  "nbformat_minor": 4,
  "nbformat": 4,
  "cells": [
    {
      "cell_type": "markdown",
      "source": "# Hypha Demos\n\n## Install client library",
      "metadata": {}
    },
    {
      "cell_type": "code",
      "source": "try:\n    # For pyodide in the browser\n    import micropip\n    await micropip.install(['imjoy_rpc', 'numpy'])\nexcept ImportError:\n    # For native python with pip\n    import subprocess\n    subprocess.call(['pip', 'install', 'imjoy_rpc', 'numpy'])",
      "metadata": {
        "trusted": true
      },
      "execution_count": null,
      "outputs": []
    },
    {
      "cell_type": "markdown",
      "source": "## Connect to the server",
      "metadata": {}
    },
    {
      "cell_type": "code",
      "source": "from imjoy_rpc.hypha import login, connect_to_server\n\nSERVER_URL = \"https://ai.imjoy.io\"\ntoken = await login({\"server_url\": SERVER_URL})\n\nserver = await connect_to_server(\n    {\"name\": \"test client\", \"server_url\": SERVER_URL, \"token\": token}\n)",
      "metadata": {
        "trusted": true
      },
      "execution_count": null,
      "outputs": []
    },
    {
      "cell_type": "code",
      "source": "# Generate credentials for later usage\nworkspace = server.config.workspace\ntoken = await server.generate_token()",
      "metadata": {
        "trusted": true
      },
      "execution_count": null,
      "outputs": []
    },
    {
      "cell_type": "markdown",
      "source": "## List all the public services",
      "metadata": {}
    },
    {
      "cell_type": "code",
      "source": "public_services = await server.list_services(\"public\")\npublic_services",
      "metadata": {
        "trusted": true
      },
      "execution_count": null,
      "outputs": []
    },
    {
      "cell_type": "markdown",
      "source": "## Use the s3-storage service",
      "metadata": {}
    },
    {
      "cell_type": "code",
      "source": "s3 = await server.get_service(\"s3-storage\")\ns3",
      "metadata": {
        "trusted": true
      },
      "execution_count": null,
      "outputs": []
    },
    {
      "cell_type": "markdown",
      "source": "## Generate credential for s3 client",
      "metadata": {}
    },
    {
      "cell_type": "code",
      "source": "info = await s3.generate_credential()\ninfo",
      "metadata": {
        "trusted": true
      },
      "execution_count": null,
      "outputs": []
    },
    {
      "cell_type": "markdown",
      "source": "## Upload an file to the workspace via hypha",
      "metadata": {}
    },
    {
      "cell_type": "code",
      "source": "from js import fetch, File, Object, eval, JSON\nurl = f\"{SERVER_URL}/{workspace}/files/hello.txt\"\nheaders = eval(f\"headers={{Authorization: 'Bearer {token}'}}\")\nfile = File.new([\"hi!\"], \"hello.txt\");\nresponse = await fetch(url, method=\"PUT\", body=file, withCredentials=True, headers=headers)\nawait response.text()",
      "metadata": {
        "trusted": true
      },
      "execution_count": null,
      "outputs": []
    },
    {
      "cell_type": "markdown",
      "source": "## Generate a presigned url for downloading a file",
      "metadata": {}
    },
    {
      "cell_type": "code",
      "source": "url = await s3.generate_presigned_url(\n    info[\"bucket\"], info[\"prefix\"] + \"hello.txt\"\n)\nprint(url)\nresponse = await fetch(url, method=\"GET\")\nawait response.text()",
      "metadata": {
        "trusted": true
      },
      "execution_count": null,
      "outputs": []
    },
    {
      "cell_type": "markdown",
      "source": "## Download the file",
      "metadata": {}
    },
    {
      "cell_type": "code",
      "source": "from js import fetch, File, Object, eval\nurl = f\"{SERVER_URL}/{workspace}/files/hello.txt\"\nheaders = eval(f\"headers={{Authorization: 'Bearer {token}'}}\")\nresponse = await fetch(url, method=\"GET\", withCredentials=True, headers=headers)\nawait response.text()",
      "metadata": {
        "trusted": true
      },
      "execution_count": null,
      "outputs": []
    },
    {
      "cell_type": "code",
      "source": "await s3.list_files()",
      "metadata": {
        "trusted": true
      },
      "execution_count": null,
      "outputs": []
    },
    {
      "cell_type": "markdown",
      "source": "## Use triton-client service",
      "metadata": {}
    },
    {
      "cell_type": "code",
      "source": "from js import fetch\nimport io\nfrom PIL import Image\nimport matplotlib.pyplot as plt\nimport numpy as np\n\nasync def fetch_image(url, name=None, grayscale=False, transpose=False, size=None):\n    response = await fetch(url)\n    bytes = await response.arrayBuffer()\n    bytes = bytes.to_py()\n    buffer = io.BytesIO(bytes)\n    buffer.name = name or url.split('?')[0].split('/')[1]\n    image = Image.open(buffer)\n    if grayscale:\n        image = image.convert('L')\n    if size:\n        image = image.resize(size=size)\n    image = np.array(image).astype('float32')\n    if transpose:\n        image = image.transpose(2, 0, 1)\n    return image\n\ndef display_image(image, mask):\n    # display the output\n    fig, (ax1, ax2) = plt.subplots(1, 2, figsize=(8, 4))\n    ax1.imshow(image)\n    ax1.set_title('input image')\n    ax2.imshow(mask)\n    ax2.set_title('predicted mask')\n    plt.show()",
      "metadata": {
        "trusted": true
      },
      "execution_count": null,
      "outputs": []
    },
    {
      "cell_type": "code",
      "source": "image = await fetch_image('https://static.imjoy.io/img/img02.png', transpose=True)",
      "metadata": {
        "trusted": true
      },
      "execution_count": null,
      "outputs": []
    },
    {
      "cell_type": "code",
      "source": "triton = await server.get_service(\"triton-client\")\nresults = await triton.execute(inputs=[image, {'diameter': 30}], model_name='cellpose-python', decode_json=True)\n\nmask = results['mask'][0]\ndisplay_image(image.transpose(1, 2, 0).astype('uint8'), mask)",
      "metadata": {
        "trusted": true
      },
      "execution_count": null,
      "outputs": []
    },
    {
      "cell_type": "markdown",
      "source": "## Use server-apps service",
      "metadata": {}
    },
    {
      "cell_type": "code",
      "source": "controller = await server.get_service(\"server-apps\")\ncontroller",
      "metadata": {
        "trusted": true
      },
      "execution_count": null,
      "outputs": []
    },
    {
      "cell_type": "markdown",
      "source": "## Launch a window plugin",
      "metadata": {}
    },
    {
      "cell_type": "code",
      "source": "TEST_APP_CODE = \"\"\"\napi.log('awesome!connected!');\n\napi.export({\n    async setup(){\n        console.log(\"this is a log\");\n        console.error(\"this is an error\");\n        await api.log(\"initialized\")\n    },\n    async check_webgpu(){\n        if (\"gpu\" in navigator) {\n            // WebGPU is supported!\n            return true\n        }\n        else return false\n    },\n    async execute(a, b){\n        console.log(\"executing\", a, b);\n        return a + b\n    }\n})\n\"\"\"\ncontroller = await server.get_service(\"server-apps\")\nconfig = await controller.launch(\n    source=TEST_APP_CODE,\n    config={\"type\": \"window\"},\n)\nassert \"app_id\" in config\nplugin = await server.get_plugin(config.id)\nassert \"execute\" in plugin\nresult = await plugin.execute(2, 4)\nassert result == 6\nwebgpu_available = await plugin.check_webgpu()\nassert webgpu_available is True\n# only pass name so the app won't be removed\nawait controller.stop(config.id)",
      "metadata": {
        "trusted": true
      },
      "execution_count": null,
      "outputs": []
    },
    {
      "cell_type": "markdown",
      "source": "## Launch a web-python plugin",
      "metadata": {}
    },
    {
      "cell_type": "code",
      "source": "TEST_APP_CODE = \"\"\"\nfrom imjoy_rpc import api\n\nasync def setup():\n    await api.log(\"started\")\n\napi.export({\"setup\": setup})\n\"\"\"\ncontroller = await server.get_service(\"server-apps\")\nconfig = await controller.launch(\n    source=TEST_APP_CODE,\n    config={\"type\": \"web-python\"},\n)\nplugin = await server.get_plugin(config.id)\nassert \"setup\" in plugin",
      "metadata": {
        "trusted": true
      },
      "execution_count": null,
      "outputs": []
    },
    {
      "cell_type": "code",
      "source": "await plugin.setup()",
      "metadata": {
        "trusted": true
      },
      "execution_count": null,
      "outputs": []
    },
    {
      "cell_type": "code",
      "source": "plugins = await server.list_plugins()\nplugins",
      "metadata": {
        "trusted": true
      },
      "execution_count": null,
      "outputs": []
    },
    {
      "cell_type": "code",
      "source": "await controller.get_log(config.id)",
      "metadata": {
        "trusted": true
      },
      "execution_count": null,
      "outputs": []
    },
    {
      "cell_type": "code",
      "source": "await controller.stop(config.id)",
      "metadata": {
        "trusted": true
      },
      "execution_count": null,
      "outputs": []
    },
    {
      "cell_type": "markdown",
      "source": "## Launch a web-python plugin and serve a web app",
      "metadata": {}
    },
    {
      "cell_type": "code",
      "source": "controller = await server.get_service(\"server-apps\")\napp = await controller.launch(\n    source=\"https://gist.githubusercontent.com/oeway/4667231efb08c39b9f41b827b91229de/raw/ASGIWebPythonPlugin.imjoy.html\",\n    timeout=20\n)\nserver_info = await server.get_connection_info()\n\nprint(f\"Server app running at {server_info.public_base_url}/{workspace}/apps/cellpose/predict\")",
      "metadata": {
        "trusted": true
      },
      "execution_count": null,
      "outputs": []
    },
    {
      "cell_type": "code",
      "source": "app",
      "metadata": {
        "trusted": true
      },
      "execution_count": null,
      "outputs": []
    },
    {
      "cell_type": "code",
      "source": "await controller.get_log(app.id)",
      "metadata": {
        "trusted": true
      },
      "execution_count": null,
      "outputs": []
    },
    {
      "cell_type": "code",
      "source": "apps = await controller.list_running()\nfor app in apps:\n    print(\"stopping \" + app.id)\n    await controller.stop(app.id)",
      "metadata": {
        "trusted": true
      },
      "execution_count": null,
      "outputs": []
    },
    {
      "cell_type": "code",
      "source": "",
      "metadata": {},
      "execution_count": null,
      "outputs": []
    }
  ]
}