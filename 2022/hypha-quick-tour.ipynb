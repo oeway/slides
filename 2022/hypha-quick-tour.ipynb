{
  "cells": [
    {
      "cell_type": "markdown",
      "metadata": {},
      "source": [
        "# Hypha Demos\n",
        "\n",
        "## Install client library"
      ]
    },
    {
      "cell_type": "code",
      "execution_count": null,
      "metadata": {},
      "outputs": [],
      "source": [
        "try:\n",
        "    # For pyodide in the browser\n",
        "    import micropip\n",
        "    await micropip.install(['imjoy_rpc', 'numpy'])\n",
        "except ImportError:\n",
        "    # For native python with pip\n",
        "    import subprocess\n",
        "    subprocess.call(['pip', 'install', 'imjoy_rpc', 'numpy'])"
      ]
    },
    {
      "cell_type": "markdown",
      "metadata": {},
      "source": [
        "## Connect to the server"
      ]
    },
    {
      "cell_type": "code",
      "execution_count": null,
      "metadata": {
        "trusted": true
      },
      "outputs": [],
      "source": [
        "from imjoy_rpc.hypha import login, connect_to_server\n",
        "\n",
        "SERVER_URL = \"https://ai.imjoy.io\"\n",
        "token = await login({\"server_url\": SERVER_URL})\n",
        "\n",
        "server = await connect_to_server(\n",
        "    {\"name\": \"test client\", \"server_url\": SERVER_URL, \"token\": token}\n",
        ")"
      ]
    },
    {
      "cell_type": "code",
      "execution_count": null,
      "metadata": {
        "trusted": true
      },
      "outputs": [],
      "source": [
        "# Generate credentials for later usage\n",
        "workspace = server.config.workspace\n",
        "token = await server.generate_token()"
      ]
    },
    {
      "cell_type": "markdown",
      "metadata": {},
      "source": [
        "## List all the public services"
      ]
    },
    {
      "cell_type": "code",
      "execution_count": null,
      "metadata": {
        "trusted": true
      },
      "outputs": [],
      "source": [
        "public_services = await server.list_services(\"public\")\n",
        "public_services"
      ]
    },
    {
      "cell_type": "markdown",
      "metadata": {},
      "source": [
        "## Use the s3-storage service"
      ]
    },
    {
      "cell_type": "code",
      "execution_count": null,
      "metadata": {
        "trusted": true
      },
      "outputs": [],
      "source": [
        "s3 = await server.get_service(\"s3-storage\")\n",
        "s3"
      ]
    },
    {
      "cell_type": "markdown",
      "metadata": {},
      "source": [
        "## Generate credential for s3 client"
      ]
    },
    {
      "cell_type": "code",
      "execution_count": null,
      "metadata": {
        "trusted": true
      },
      "outputs": [],
      "source": [
        "info = await s3.generate_credential()\n",
        "info"
      ]
    },
    {
      "cell_type": "markdown",
      "metadata": {},
      "source": [
        "## Upload an file to the workspace via hypha"
      ]
    },
    {
      "cell_type": "code",
      "execution_count": null,
      "metadata": {
        "trusted": true
      },
      "outputs": [],
      "source": [
        "from js import fetch, File, Object, eval, JSON\n",
        "url = f\"{SERVER_URL}/{workspace}/files/hello.txt\"\n",
        "headers = eval(f\"headers={{Authorization: 'Bearer {token}'}}\")\n",
        "file = File.new([\"hi!\"], \"hello.txt\");\n",
        "response = await fetch(url, method=\"PUT\", body=file, withCredentials=True, headers=headers)\n",
        "await response.text()"
      ]
    },
    {
      "cell_type": "markdown",
      "metadata": {},
      "source": [
        "## Generate a presigned url for downloading a file"
      ]
    },
    {
      "cell_type": "code",
      "execution_count": null,
      "metadata": {
        "trusted": true
      },
      "outputs": [],
      "source": [
        "url = await s3.generate_presigned_url(\n",
        "    info[\"bucket\"], info[\"prefix\"] + \"hello.txt\"\n",
        ")\n",
        "print(url)\n",
        "response = await fetch(url, method=\"GET\")\n",
        "await response.text()"
      ]
    },
    {
      "cell_type": "markdown",
      "metadata": {},
      "source": [
        "## Download the file"
      ]
    },
    {
      "cell_type": "code",
      "execution_count": null,
      "metadata": {
        "trusted": true
      },
      "outputs": [],
      "source": [
        "from js import fetch, File, Object, eval\n",
        "url = f\"{SERVER_URL}/{workspace}/files/hello.txt\"\n",
        "headers = eval(f\"headers={{Authorization: 'Bearer {token}'}}\")\n",
        "response = await fetch(url, method=\"GET\", withCredentials=True, headers=headers)\n",
        "await response.text()"
      ]
    },
    {
      "cell_type": "code",
      "execution_count": null,
      "metadata": {
        "trusted": true
      },
      "outputs": [],
      "source": [
        "await s3.list_files()"
      ]
    },
    {
      "cell_type": "markdown",
      "metadata": {},
      "source": [
        "## Use triton-client service"
      ]
    },
    {
      "cell_type": "code",
      "execution_count": null,
      "metadata": {
        "trusted": true
      },
      "outputs": [],
      "source": [
        "from js import fetch\n",
        "import io\n",
        "from PIL import Image\n",
        "import matplotlib.pyplot as plt\n",
        "import numpy as np\n",
        "\n",
        "async def fetch_image(url, name=None, grayscale=False, transpose=False, size=None):\n",
        "    response = await fetch(url)\n",
        "    bytes = await response.arrayBuffer()\n",
        "    bytes = bytes.to_py()\n",
        "    buffer = io.BytesIO(bytes)\n",
        "    buffer.name = name or url.split('?')[0].split('/')[1]\n",
        "    image = Image.open(buffer)\n",
        "    if grayscale:\n",
        "        image = image.convert('L')\n",
        "    if size:\n",
        "        image = image.resize(size=size)\n",
        "    image = np.array(image).astype('float32')\n",
        "    if transpose:\n",
        "        image = image.transpose(2, 0, 1)\n",
        "    return image\n",
        "\n",
        "def display_image(image, mask):\n",
        "    # display the output\n",
        "    fig, (ax1, ax2) = plt.subplots(1, 2, figsize=(8, 4))\n",
        "    ax1.imshow(image)\n",
        "    ax1.set_title('input image')\n",
        "    ax2.imshow(mask)\n",
        "    ax2.set_title('predicted mask')\n",
        "    plt.show()"
      ]
    },
    {
      "cell_type": "code",
      "execution_count": null,
      "metadata": {
        "trusted": true
      },
      "outputs": [],
      "source": [
        "image = await fetch_image('https://static.imjoy.io/img/img02.png', transpose=True)"
      ]
    },
    {
      "cell_type": "code",
      "execution_count": null,
      "metadata": {
        "trusted": true
      },
      "outputs": [],
      "source": [
        "triton = await server.get_service(\"triton-client\")\n",
        "results = await triton.execute(inputs=[image, {'diameter': 30}], model_name='cellpose-python', decode_json=True)\n",
        "\n",
        "mask = results['mask'][0]\n",
        "display_image(image.transpose(1, 2, 0).astype('uint8'), mask)"
      ]
    },
    {
      "cell_type": "markdown",
      "metadata": {},
      "source": [
        "## Use server-apps service"
      ]
    },
    {
      "cell_type": "code",
      "execution_count": null,
      "metadata": {
        "trusted": true
      },
      "outputs": [],
      "source": [
        "controller = await server.get_service(\"server-apps\")\n",
        "controller"
      ]
    },
    {
      "cell_type": "markdown",
      "metadata": {},
      "source": [
        "## Launch a window plugin"
      ]
    },
    {
      "cell_type": "code",
      "execution_count": null,
      "metadata": {
        "trusted": true
      },
      "outputs": [],
      "source": [
        "TEST_APP_CODE = \"\"\"\n",
        "server.log('awesome!connected!');\n",
        "\n",
        "server.export({\n",
        "    async setup(){\n",
        "        console.log(\"this is a log\");\n",
        "        console.error(\"this is an error\");\n",
        "        await server.log(\"initialized\")\n",
        "    },\n",
        "    async check_webgpu(){\n",
        "        if (\"gpu\" in navigator) {\n",
        "            // WebGPU is supported!\n",
        "            return true\n",
        "        }\n",
        "        else return false\n",
        "    },\n",
        "    async execute(a, b){\n",
        "        console.log(\"executing\", a, b);\n",
        "        return a + b\n",
        "    }\n",
        "})\n",
        "\"\"\"\n",
        "controller = await server.get_service(\"server-apps\")\n",
        "config = await controller.launch(\n",
        "    source=TEST_APP_CODE,\n",
        "    config={\"type\": \"window\"},\n",
        ")\n",
        "assert \"app_id\" in config\n",
        "plugin = await server.get_plugin(config.id)\n",
        "assert \"execute\" in plugin\n",
        "result = await plugin.execute(2, 4)\n",
        "assert result == 6\n",
        "webgpu_available = await plugin.check_webgpu()\n",
        "assert webgpu_available is True\n",
        "# only pass name so the app won't be removed\n",
        "await controller.stop(config.id)"
      ]
    },
    {
      "cell_type": "markdown",
      "metadata": {},
      "source": [
        "## Launch a web-python plugin"
      ]
    },
    {
      "cell_type": "code",
      "execution_count": null,
      "metadata": {
        "trusted": true
      },
      "outputs": [],
      "source": [
        "TEST_APP_CODE = \"\"\"\n",
        "from imjoy_rpc import api\n",
        "\n",
        "async def setup():\n",
        "    await server.log(\"started\")\n",
        "\n",
        "server.export({\"setup\": setup})\n",
        "\"\"\"\n",
        "controller = await server.get_service(\"server-apps\")\n",
        "config = await controller.launch(\n",
        "    source=TEST_APP_CODE,\n",
        "    config={\"type\": \"web-python\"},\n",
        ")\n",
        "plugin = await server.get_plugin(config.id)\n",
        "assert \"setup\" in plugin"
      ]
    },
    {
      "cell_type": "code",
      "execution_count": null,
      "metadata": {
        "trusted": true
      },
      "outputs": [],
      "source": [
        "await plugin.setup()"
      ]
    },
    {
      "cell_type": "code",
      "execution_count": null,
      "metadata": {
        "trusted": true
      },
      "outputs": [],
      "source": [
        "plugins = await server.list_plugins()\n",
        "plugins"
      ]
    },
    {
      "cell_type": "code",
      "execution_count": null,
      "metadata": {
        "trusted": true
      },
      "outputs": [],
      "source": [
        "await controller.get_log(config.id)"
      ]
    },
    {
      "cell_type": "code",
      "execution_count": null,
      "metadata": {
        "trusted": true
      },
      "outputs": [],
      "source": [
        "await controller.stop(config.id)"
      ]
    },
    {
      "cell_type": "markdown",
      "metadata": {},
      "source": [
        "## Launch a web-python plugin and serve a web app"
      ]
    },
    {
      "cell_type": "code",
      "execution_count": null,
      "metadata": {
        "trusted": true
      },
      "outputs": [],
      "source": [
        "controller = await server.get_service(\"server-apps\")\n",
        "app = await controller.launch(\n",
        "    source=\"https://gist.githubusercontent.com/oeway/4667231efb08c39b9f41b827b91229de/raw/ASGIWebPythonPlugin.imjoy.html\",\n",
        "    timeout=20\n",
        ")\n",
        "server_info = await server.get_connection_info()\n",
        "\n",
        "print(f\"Server app running at {server_info.public_base_url}/{workspace}/apps/cellpose/predict\")"
      ]
    },
    {
      "cell_type": "code",
      "execution_count": null,
      "metadata": {
        "trusted": true
      },
      "outputs": [],
      "source": [
        "app"
      ]
    },
    {
      "cell_type": "code",
      "execution_count": null,
      "metadata": {
        "trusted": true
      },
      "outputs": [],
      "source": [
        "await controller.get_log(app.id)"
      ]
    },
    {
      "cell_type": "code",
      "execution_count": null,
      "metadata": {
        "trusted": true
      },
      "outputs": [],
      "source": [
        "apps = await controller.list_running()\n",
        "for app in apps:\n",
        "    print(\"stopping \" + app.id)\n",
        "    await controller.stop(app.id)"
      ]
    },
    {
      "cell_type": "code",
      "execution_count": null,
      "metadata": {},
      "outputs": [],
      "source": []
    }
  ],
  "metadata": {
    "kernelspec": {
      "display_name": "Pyolite",
      "language": "python",
      "name": "python"
    },
    "language_info": {
      "codemirror_mode": {
        "name": "python",
        "version": 3
      },
      "file_extension": ".py",
      "mimetype": "text/x-python",
      "name": "python",
      "nbconvert_exporter": "python",
      "pygments_lexer": "ipython3",
      "version": "3.8"
    }
  },
  "nbformat": 4,
  "nbformat_minor": 4
}
